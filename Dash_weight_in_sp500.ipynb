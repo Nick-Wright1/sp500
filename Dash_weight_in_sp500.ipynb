{
 "cells": [
  {
   "cell_type": "code",
   "execution_count": 1,
   "id": "34a6631e",
   "metadata": {},
   "outputs": [
    {
     "data": {
      "text/html": [
       "<style>.container { width:100% !important; }</style>"
      ],
      "text/plain": [
       "<IPython.core.display.HTML object>"
      ]
     },
     "metadata": {},
     "output_type": "display_data"
    }
   ],
   "source": [
    "import pandas as pd\n",
    "import plotly.express as px\n",
    "import dash\n",
    "from dash import dcc\n",
    "from dash import html\n",
    "import os\n",
    "\n",
    "from IPython.display import display, HTML\n",
    "display(HTML(\"<style>.container { width:100% !important; }</style>\"))"
   ]
  },
  {
   "cell_type": "code",
   "execution_count": 7,
   "id": "7721df63",
   "metadata": {
    "scrolled": false
   },
   "outputs": [
    {
     "data": {
      "text/html": [
       "\n",
       "        <iframe\n",
       "            width=\"100%\"\n",
       "            height=\"650\"\n",
       "            src=\"http://127.0.0.1:8050/\"\n",
       "            frameborder=\"0\"\n",
       "            allowfullscreen\n",
       "            \n",
       "        ></iframe>\n",
       "        "
      ],
      "text/plain": [
       "<IPython.lib.display.IFrame at 0x1a3554a9ae0>"
      ]
     },
     "metadata": {},
     "output_type": "display_data"
    },
    {
     "name": "stderr",
     "output_type": "stream",
     "text": [
      "[2024-01-19 14:03:41,141] ERROR in app: Exception on /_dash-update-component [POST]\n",
      "Traceback (most recent call last):\n",
      "  File \"C:\\Users\\KauraAddy\\anaconda3\\lib\\site-packages\\flask\\app.py\", line 1455, in wsgi_app\n",
      "    response = self.full_dispatch_request()\n",
      "  File \"C:\\Users\\KauraAddy\\anaconda3\\lib\\site-packages\\flask\\app.py\", line 869, in full_dispatch_request\n",
      "    rv = self.handle_user_exception(e)\n",
      "  File \"C:\\Users\\KauraAddy\\anaconda3\\lib\\site-packages\\flask\\app.py\", line 867, in full_dispatch_request\n",
      "    rv = self.dispatch_request()\n",
      "  File \"C:\\Users\\KauraAddy\\anaconda3\\lib\\site-packages\\flask\\app.py\", line 852, in dispatch_request\n",
      "    return self.ensure_sync(self.view_functions[rule.endpoint])(**view_args)\n",
      "  File \"C:\\Users\\KauraAddy\\anaconda3\\lib\\site-packages\\dash\\dash.py\", line 1310, in dispatch\n",
      "    ctx.run(\n",
      "  File \"C:\\Users\\KauraAddy\\anaconda3\\lib\\site-packages\\dash\\_callback.py\", line 442, in add_context\n",
      "    output_value = func(*func_args, **func_kwargs)  # %% callback invoked %%\n",
      "  File \"C:\\Users\\KauraAddy\\AppData\\Local\\Temp\\ipykernel_25696\\2873198963.py\", line 34, in update_output\n",
      "    ts = df[df[\"Asset Name\"].isin(value)]\n",
      "  File \"C:\\Users\\KauraAddy\\anaconda3\\lib\\site-packages\\pandas\\core\\series.py\", line 5563, in isin\n",
      "    result = algorithms.isin(self._values, values)\n",
      "  File \"C:\\Users\\KauraAddy\\anaconda3\\lib\\site-packages\\pandas\\core\\algorithms.py\", line 459, in isin\n",
      "    raise TypeError(\n",
      "TypeError: only list-like objects are allowed to be passed to isin(), you passed a [NoneType]\n"
     ]
    }
   ],
   "source": [
    "import pandas as pd\n",
    "import plotly.express as px\n",
    "import dash\n",
    "import dash_core_components as dcc\n",
    "import dash_html_components as html\n",
    "\n",
    "url = 'https://raw.githubusercontent.com/Nick-Wright1/sp500/85d80dce303c466f0030477d7960ce4088c5e385/sp500data.csv'\n",
    "\n",
    "df = pd.read_csv(url,  sep=',')\n",
    "df = df.drop(df.columns[[0]], axis=1)\n",
    "\n",
    "\n",
    "available_names = df['Asset Name'].unique()\n",
    "available_names.sort()\n",
    "\n",
    "app = dash.Dash()\n",
    "app.layout = html.Div([\n",
    "    dcc.Dropdown(\n",
    "        id='demo-dropdown',\n",
    "        options=[{'label': k, 'value': k} for k in available_names],\n",
    "        placeholder = 'Select Company Name Here....', \n",
    "        multi=True\n",
    "    ),\n",
    "\n",
    "    html.Hr(),\n",
    "    dcc.Graph(id='display-selected-values'),\n",
    "\n",
    "])\n",
    "\n",
    "@app.callback(\n",
    "    dash.dependencies.Output('display-selected-values', 'figure'),\n",
    "    dash.dependencies.Input('demo-dropdown', 'value'))\n",
    "def update_output(value):\n",
    "    ts = df[df[\"Asset Name\"].isin(value)]\n",
    "    fig = px.line(ts, x=\"Holdings Date\", y=\"Weight (%)\", color=\"Asset Name\", title = '<b>'+'Weight of the company in S&P500 Index over time')\n",
    "    return fig\n",
    "\n",
    "\n",
    "if __name__ == '__main__':\n",
    "    app.run_server()"
   ]
  },
  {
   "cell_type": "code",
   "execution_count": 3,
   "id": "2e988d85",
   "metadata": {},
   "outputs": [
    {
     "data": {
      "text/plain": [
       "0"
      ]
     },
     "execution_count": 3,
     "metadata": {},
     "output_type": "execute_result"
    }
   ],
   "source": [
    "import os\n",
    "os.system('jupyter nbconvert Dash_weight_in_sp500 --to=html --TemplateExporter.exclude_input=True')"
   ]
  }
 ],
 "metadata": {
  "kernelspec": {
   "display_name": "Python 3 (ipykernel)",
   "language": "python",
   "name": "python3"
  },
  "language_info": {
   "codemirror_mode": {
    "name": "ipython",
    "version": 3
   },
   "file_extension": ".py",
   "mimetype": "text/x-python",
   "name": "python",
   "nbconvert_exporter": "python",
   "pygments_lexer": "ipython3",
   "version": "3.10.9"
  }
 },
 "nbformat": 4,
 "nbformat_minor": 5
}
